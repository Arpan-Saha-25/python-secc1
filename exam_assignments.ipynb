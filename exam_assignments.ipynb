{
 "cells": [
  {
   "cell_type": "markdown",
   "metadata": {},
   "source": [
    "### Create triangle pattern"
   ]
  },
  {
   "cell_type": "code",
   "execution_count": 117,
   "metadata": {},
   "outputs": [
    {
     "name": "stdout",
     "output_type": "stream",
     "text": [
      "* \n",
      "* * \n",
      "* * * \n",
      "* * * * \n"
     ]
    }
   ],
   "source": [
    "rows = 4 # int(input(\"Enter no. rows: \"))\n",
    "\n",
    "for i in range(rows):\n",
    "    for j in range(i+1):\n",
    "        print(\"*\",end=\" \")\n",
    "    print()"
   ]
  },
  {
   "cell_type": "markdown",
   "metadata": {},
   "source": [
    "### Create square pattern "
   ]
  },
  {
   "cell_type": "code",
   "execution_count": 118,
   "metadata": {},
   "outputs": [
    {
     "name": "stdout",
     "output_type": "stream",
     "text": [
      "* * * * * \n",
      "*       * \n",
      "*       * \n",
      "*       * \n",
      "* * * * * \n"
     ]
    }
   ],
   "source": [
    "rows = 5 #int(input(\"Enter no.rows\"))\n",
    "\n",
    "for i in range(rows):\n",
    "    if i == 0 or i == rows-1:\n",
    "        print(\"* \"*rows)\n",
    "    else:\n",
    "        print(\"* \" + \" \"*(rows+1) + \"* \")"
   ]
  },
  {
   "cell_type": "markdown",
   "metadata": {},
   "source": [
    "### Check char is vowel or not !!"
   ]
  },
  {
   "cell_type": "code",
   "execution_count": 119,
   "metadata": {},
   "outputs": [
    {
     "name": "stdout",
     "output_type": "stream",
     "text": [
      "Your char is 'a' which is Vowel\n"
     ]
    }
   ],
   "source": [
    "char = input(\"Enter the character : \")\n",
    "\n",
    "print(f\"Your char is '{char}' which is \", end=\"\")\n",
    "\n",
    "if ord(char.lower()) in range(97,97+26):\n",
    "    if char.lower() in \"aeiou\":\n",
    "        print(\"Vowel\")\n",
    "    else:\n",
    "        print(\"Consonant\")\n",
    "else:\n",
    "    print(\"Invalid Char\")\n"
   ]
  },
  {
   "cell_type": "markdown",
   "metadata": {},
   "source": [
    "### ATM WITHDRAWAL"
   ]
  },
  {
   "cell_type": "code",
   "execution_count": 120,
   "metadata": {},
   "outputs": [],
   "source": [
    "accountBal = 10000\n",
    "withdrawal_amt = int(input(\"Enter the amount : \"))\n",
    "max_withdrawal = 2000\n",
    "\n",
    "# Rs100 notes available only\n",
    "if withdrawal_amt % 100 == 0:\n",
    "    if withdrawal_amt <= max_withdrawal and (accountBal - withdrawal_amt) >= 0:\n",
    "        accountBal -= withdrawal_amt\n",
    "        print(f\"Transaction successful.\\nRemaining Balance : {accountBal}\")\n",
    "    else:\n",
    "        print(\"Maximum withdrawal exceeded.\") "
   ]
  },
  {
   "cell_type": "markdown",
   "metadata": {},
   "source": [
    "#### Write a program that calculates ticket prices based on age. Ask them to modify the code to include a discount of 10% for students (ages 13-18) and seniors (ages 61 and above). "
   ]
  },
  {
   "cell_type": "code",
   "execution_count": 121,
   "metadata": {},
   "outputs": [
    {
     "name": "stdout",
     "output_type": "stream",
     "text": [
      "Charge: 18.0\n"
     ]
    }
   ],
   "source": [
    "age = 16 # int(input(\"Enter your age : \"))\n",
    "\n",
    "tkt_price = 20\n",
    "\n",
    "if (age > 0) and (age in range(13,19)) or (age in range(61,200)):\n",
    "    # 10% off\n",
    "    discount = tkt_price*0.1\n",
    "    new_tkt_price = tkt_price - discount\n",
    "    print(\"Charge:\" , new_tkt_price)\n",
    "else:\n",
    "    print(\"Charge:\" , tkt_price)"
   ]
  },
  {
   "cell_type": "markdown",
   "metadata": {},
   "source": [
    "### Reverse a input string"
   ]
  },
  {
   "cell_type": "code",
   "execution_count": 122,
   "metadata": {},
   "outputs": [
    {
     "name": "stdout",
     "output_type": "stream",
     "text": [
      "Your string : mahd moohd\n"
     ]
    }
   ],
   "source": [
    "string = \"dhoom dham\" # input(\"Enter your string\")\n",
    "\n",
    "rev_string = string[::-1]\n",
    "\n",
    "print(\"Your string :\" , rev_string)"
   ]
  },
  {
   "cell_type": "markdown",
   "metadata": {},
   "source": [
    "### Celcius to farenheit on user input"
   ]
  },
  {
   "cell_type": "code",
   "execution_count": 123,
   "metadata": {},
   "outputs": [
    {
     "name": "stdout",
     "output_type": "stream",
     "text": [
      "Farenheit:  104.0\n"
     ]
    }
   ],
   "source": [
    "choice = int(input(\"Press 1 for degCel to F\\nPress 2 for F to degCel\\nYour choice: \"))\n",
    "\n",
    "if choice == 1 :\n",
    "    cel = float(input(\"Enter celcius in degrees: \"))\n",
    "    F = (9/5)*(cel) + 32\n",
    "    print(\"Farenheit: \", F)\n",
    "elif choice == 2:\n",
    "    F = float(input(\"Enter farenheit in degrees: \"))\n",
    "    cel = (F-32)*(5/9)\n",
    "    print(\"cel:\",F)\n",
    "else:\n",
    "    print(\"Error: invalid choice.\\n\")\n"
   ]
  },
  {
   "cell_type": "markdown",
   "metadata": {},
   "source": [
    "#### Given a class \"Car\" , add a method \"start engine\" that prints \"Engine starts...\""
   ]
  },
  {
   "cell_type": "code",
   "execution_count": 124,
   "metadata": {},
   "outputs": [
    {
     "name": "stdout",
     "output_type": "stream",
     "text": [
      "Brand : Dhonno | Model : Vroom 420\n",
      "Engine starts...\n",
      "Engine Stopped.\n"
     ]
    }
   ],
   "source": [
    "class Car:\n",
    "    def __init__(self,brand,model):\n",
    "        self.brand = brand\n",
    "        self.model = model\n",
    "    def displayInfo(self):\n",
    "        print(f\"Brand : {self.brand} | Model : {self.model}\")\n",
    "    def startEngine(self):\n",
    "        print(\"Engine starts...\")\n",
    "        self.stopEngine()\n",
    "    def stopEngine(self):\n",
    "        print(\"Engine Stopped.\")\n",
    "\n",
    "\n",
    "\n",
    "myCar = Car(\"Dhonno\",\"Vroom 420\")\n",
    "myCar.displayInfo()\n",
    "myCar.startEngine()"
   ]
  },
  {
   "cell_type": "markdown",
   "metadata": {},
   "source": [
    "```\n",
    "Given a dictionary representing a book, modify the code to add a new key-value pair for the publication year. \n",
    "b o o k i n f o = { ’ t i t l e ’ : ’ The Great Gatsby ’ , ’ author ’ : ’F. S c o t t Fi t z g e r al d ’ } \n",
    "# Add the p u b l i c a t i o n ye a r t o the d i c t i o n a r y \n",
    "p r i n t ( ‘ Updated Book I n f o rm a ti o n : ’ , b o o k i n f o )\n",
    "```"
   ]
  },
  {
   "cell_type": "code",
   "execution_count": 125,
   "metadata": {},
   "outputs": [
    {
     "name": "stdout",
     "output_type": "stream",
     "text": [
      "dict_keys(['title', 'author'])\n",
      "dict_values(['The Great Jigga', 'Scotty Lotte'])\n",
      "\n",
      " {'title': 'The Great Jigga', 'author': 'Scotty Lotte', 'Publication Year': 1947}\n"
     ]
    }
   ],
   "source": [
    "bookInfo = {\"title\" : \"The Great Jigga\",\"author\" : \"Scotty Lotte\"}\n",
    "\n",
    "print(bookInfo.keys())\n",
    "print(bookInfo.values())\n",
    "\n",
    "bookInfo[\"Publication Year\"] = 1947\n",
    "\n",
    "print(\"\\n\",bookInfo)"
   ]
  },
  {
   "cell_type": "markdown",
   "metadata": {},
   "source": [
    "Squares of the elem of list"
   ]
  },
  {
   "cell_type": "code",
   "execution_count": 126,
   "metadata": {},
   "outputs": [
    {
     "name": "stdout",
     "output_type": "stream",
     "text": [
      "[1, 4, 9, 16]\n"
     ]
    }
   ],
   "source": [
    "list = [1,2,3,4]\n",
    "\n",
    "sq_list = [x**2 for x in list]\n",
    "\n",
    "print(sq_list)"
   ]
  },
  {
   "cell_type": "markdown",
   "metadata": {},
   "source": [
    "function to take two parameters (a and b) and return the \n",
    "sum of their squares."
   ]
  },
  {
   "cell_type": "code",
   "execution_count": 127,
   "metadata": {},
   "outputs": [
    {
     "name": "stdout",
     "output_type": "stream",
     "text": [
      "Sum is  720.0\n"
     ]
    }
   ],
   "source": [
    "def sumOfSq():\n",
    "    a = float(input(\"Enter number 1: \"))\n",
    "    b = float(input(\"Enter number 2: \"))\n",
    "\n",
    "    return (a**2 + b**2)\n",
    "\n",
    "print(\"Sum is \",sumOfSq())"
   ]
  },
  {
   "cell_type": "markdown",
   "metadata": {},
   "source": [
    "Given the following class representing a Circle, add a method calculate ‘circumference’ that returns the circumference of the circle. "
   ]
  },
  {
   "cell_type": "code",
   "execution_count": 128,
   "metadata": {},
   "outputs": [
    {
     "name": "stdout",
     "output_type": "stream",
     "text": [
      "78.5\n",
      "31.4\n"
     ]
    }
   ],
   "source": [
    "class Circle:\n",
    "    def __init__(self,radius: float) -> float:\n",
    "        self.radius = radius\n",
    "\n",
    "    def area(self):\n",
    "        return round((3.14 * (self.radius)**2), 3)\n",
    "    \n",
    "    def circum(self):\n",
    "        return round(2 * 3.14 * self.radius , 3)\n",
    "    \n",
    "circle_obj = Circle(5)\n",
    "\n",
    "print(circle_obj.area())\n",
    "print(circle_obj.circum())"
   ]
  },
  {
   "cell_type": "markdown",
   "metadata": {},
   "source": [
    "Create a function that takes a list of numbers as input and returns the sum of all the \n",
    "elements"
   ]
  },
  {
   "cell_type": "code",
   "execution_count": 129,
   "metadata": {},
   "outputs": [
    {
     "name": "stdout",
     "output_type": "stream",
     "text": [
      "[123.0]\n",
      "Sum :  123.0\n"
     ]
    }
   ],
   "source": [
    "def calc_sum(nums) -> int:\n",
    "    return sum(nums)\n",
    "\n",
    "try: \n",
    "    input_list = [float(x) for x in input(\"Enter the numbers: \").split()]\n",
    "    print(input_list)\n",
    "    print(\"Sum : \",calc_sum(input_list))\n",
    "except ValueError:\n",
    "    print(\"Error: Please enter a valid number\")"
   ]
  },
  {
   "cell_type": "markdown",
   "metadata": {},
   "source": [
    "Fibonacci Sequence"
   ]
  },
  {
   "cell_type": "code",
   "execution_count": 130,
   "metadata": {},
   "outputs": [
    {
     "name": "stdout",
     "output_type": "stream",
     "text": [
      "[0, 1, 2, 3, 5]\n"
     ]
    }
   ],
   "source": [
    "def fibo(num: int):\n",
    "    # 0 1 \n",
    "    # 1 2 \n",
    "    # 3 5 ...\n",
    "    fibonacci_sequence = []\n",
    "    a,b = 0,1\n",
    "\n",
    "    fibonacci_sequence.append(0)\n",
    "\n",
    "    for _ in range(1,num):\n",
    "        c = a + b\n",
    "        fibonacci_sequence.append(c)\n",
    "        a = b\n",
    "        b = c\n",
    "\n",
    "    return fibonacci_sequence\n",
    "\n",
    "no_terms = int(input(\"No. of terms : \"))\n",
    "fibo_result = fibo(no_terms)\n",
    "print(fibo_result)"
   ]
  },
  {
   "cell_type": "markdown",
   "metadata": {},
   "source": [
    "CHeck  a year is leap or not "
   ]
  },
  {
   "cell_type": "code",
   "execution_count": 131,
   "metadata": {},
   "outputs": [
    {
     "name": "stdout",
     "output_type": "stream",
     "text": [
      "is 1234 leap?\n",
      "Result : False\n"
     ]
    }
   ],
   "source": [
    "def leapCheck(year: int):\n",
    "    return (year % 4 == 0 and year % 100 != 0) or (year % 400 == 0)\\\n",
    "    \n",
    "year = int(input(\"Enter the year : \"))\n",
    "print(f\"is {year} leap?\\nResult : {leapCheck(year)}\")"
   ]
  },
  {
   "cell_type": "markdown",
   "metadata": {},
   "source": [
    "Factorial\n"
   ]
  },
  {
   "cell_type": "code",
   "execution_count": 137,
   "metadata": {},
   "outputs": [
    {
     "name": "stdout",
     "output_type": "stream",
     "text": [
      "The factorial of 2 is 2\n"
     ]
    }
   ],
   "source": [
    "def factorial(n: int) -> int:\n",
    "    if n == 0 or n == 1:\n",
    "        return 1\n",
    "    else:\n",
    "        return n * factorial(n-1)\n",
    "\n",
    "num = int(input(\"Enter a number: \"))\n",
    "print(f\"The factorial of {num} is {factorial(num)}\")"
   ]
  },
  {
   "cell_type": "markdown",
   "metadata": {},
   "source": [
    "Add the words having length greater than 3 to the new list"
   ]
  },
  {
   "cell_type": "code",
   "execution_count": 142,
   "metadata": {},
   "outputs": [
    {
     "name": "stdout",
     "output_type": "stream",
     "text": [
      "['Bulma', 'Goku', 'Freiza', 'Vegeta', 'Goten', 'Yamcha']\n"
     ]
    }
   ],
   "source": [
    "words = [\"Bulma\" , \"tv\", \"Goku\",\"Freiza\", \"Vegeta\", \"Buu\", \"Goten\", \"Yamcha\", \"hi\"]\n",
    "\n",
    "new_list = [ i for i in words if len(i) > 3]\n",
    "\n",
    "print(new_list)"
   ]
  },
  {
   "cell_type": "code",
   "execution_count": 4,
   "metadata": {},
   "outputs": [
    {
     "name": "stdout",
     "output_type": "stream",
     "text": [
      "Your grade is: B\n"
     ]
    }
   ],
   "source": [
    "grade = float(input(\"Enter the numerical grade: \"))\n",
    "\n",
    "if 90 <= grade <= 100:\n",
    "    rank = \"A\"\n",
    "elif 80 <= grade < 90:\n",
    "    rank = \"B\"\n",
    "elif 70 <= grade < 80:\n",
    "    rank = \"C\"  \n",
    "elif 60 <= grade < 70:\n",
    "    rank = \"D\"\n",
    "elif 0 <= grade < 60:\n",
    "    rank = \"F\"\n",
    "else:\n",
    "    print(\"Invalid grade. Please enter a grade between 0 and 100.\")\n",
    "    exit()\n",
    "\n",
    "print(f\"Your grade is: {rank}\")\n"
   ]
  }
 ],
 "metadata": {
  "kernelspec": {
   "display_name": "Python 3",
   "language": "python",
   "name": "python3"
  },
  "language_info": {
   "codemirror_mode": {
    "name": "ipython",
    "version": 3
   },
   "file_extension": ".py",
   "mimetype": "text/x-python",
   "name": "python",
   "nbconvert_exporter": "python",
   "pygments_lexer": "ipython3",
   "version": "3.12.0"
  }
 },
 "nbformat": 4,
 "nbformat_minor": 2
}
